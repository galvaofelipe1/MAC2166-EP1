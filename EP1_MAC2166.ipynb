{
 "cells": [
  {
   "cell_type": "markdown",
   "metadata": {},
   "source": [
    "## MAC2166 Introdução à Computação ##\n",
    "### Primeiro Exercício Programa  ###\n",
    "- Esse foi o primeiro exercício programa do primeiro semestre de 2020 da disciplina MAC2166. Essa disciplina é oferecida aos alunos da Escola Politécnica em seu primeiro ano de curso.\n",
    "- Enunciado completo do exercício: https://www.ime.usp.br/~mac2166/ep1-2020/ep1-2020.html ."
   ]
  },
  {
   "cell_type": "markdown",
   "metadata": {},
   "source": [
    "### Enunciado Resumido  ###\n",
    "- Neste EP a sua tarefa será verificar se um número pode ser escrito como a soma de quadrados de quatro números primos consecutivos ou não. O programa terá dois modos de operação. No primeiro modo o programa receberá do usuário cinco números naturais n1, n2, n3, n4 e n e retornará a informação de se n pode ou não ser escrito como a soma dos quadrados de n1, n2, n3 e n4. No segundo modo o programa receberá do usuário um único número natural n e retornará os quatro primos consecutivos cuja soma dos quadrados seja igual a n ou a informação de que não é possível representar n como a soma dos quadrados de quatro primos consecutivos. \n"
   ]
  },
  {
   "cell_type": "code",
   "execution_count": 1,
   "metadata": {},
   "outputs": [],
   "source": [
    "'''função para calcular se um número é primo'''       \n",
    "def eprimo(n):\n",
    "    \n",
    "    #para os menores números, apenas isso basta\n",
    "    if n == 2 or n == 3 or n == 5:    \n",
    "        return True\n",
    "    if n == 4:\n",
    "        return False\n",
    "    \n",
    "    #para números maiores, foi implementado os eguinte algoritmo de verificação\n",
    "    else: \n",
    "        h = 2\n",
    "        for j in range(2,round(n**(1/2))+1): #a lógica é simples, o range irá até raiz quadrada do número mais 1,\n",
    "                                             #se o número não divisível por nenhum desses, é primo.\n",
    "\n",
    "            if n%j == 0:\n",
    "                #não é primo\n",
    "                return False\n",
    "                break\n",
    "\n",
    "            if h == round(n**(1/2)):\n",
    "\n",
    "                #é primo\n",
    "                return True\n",
    "            \n",
    "\n",
    "\n",
    "            h = h + 1\n"
   ]
  },
  {
   "cell_type": "code",
   "execution_count": 2,
   "metadata": {},
   "outputs": [],
   "source": [
    "\n",
    "def listaprimos(lista_anterior): #a primeira entrada será sempre uma entrada dos primos primos sequenciais [2,3,5,7]\n",
    "    \n",
    "    lista_anterior.pop(0)\n",
    "    n = lista_anterior[2]\n",
    "    n = n+1\n",
    "    \n",
    "    while eprimo(n)==False: #enquanto o número não for primo, continua gerando um número\n",
    "        \n",
    "        eprimo(n)\n",
    "        n= n+1\n",
    "    \n",
    "    '''após descobrir o próximo primo, este é adicionado ao final da lista'''\n",
    "    lista_anterior.append(n)\n",
    "\n",
    "\n",
    "    return lista_anterior\n",
    "        \n"
   ]
  },
  {
   "cell_type": "markdown",
   "metadata": {},
   "source": [
    "### Modo 1 ### "
   ]
  },
  {
   "cell_type": "code",
   "execution_count": 3,
   "metadata": {
    "scrolled": true
   },
   "outputs": [],
   "source": [
    "'''Programa simples para calcular o modo 1, apenas verifica se é verdadeiro'''\n",
    "def modo1(n1, n2, n3, n4, n):\n",
    "    \n",
    "    \n",
    "    if n1**2 + n2**2 + n3**2 + n4**2  == n:\n",
    "        return True\n",
    "    else:\n",
    "        return False\n"
   ]
  },
  {
   "cell_type": "markdown",
   "metadata": {},
   "source": [
    "### Modo 2 ### "
   ]
  },
  {
   "cell_type": "code",
   "execution_count": 4,
   "metadata": {},
   "outputs": [],
   "source": [
    "'''Função para calcular o modo 2'''\n",
    "def modo2(n):\n",
    "    \n",
    "    \n",
    "    lista = [2,3,5,7]                                             #inicia com a primeira sequeência de primos.\n",
    "    while lista[0]**2+lista[1]**2+lista[2]**2+lista[3]**2 <= n:   #loop onde, enquanto a somatória dos quadrados\n",
    "                                                                  #for menor ou igual ao valor de n, ele continua.\n",
    "        \n",
    "\n",
    "        if lista[0]**2+lista[1]**2+lista[2]**2+lista[3]**2 == n:  #se a soma for n, finaliza e termina o loop.\n",
    "            \n",
    "            return print(True) , print(str(lista[0])+' '+str(lista[1])+' '+str(lista[2])+' '+str(lista[3]))\n",
    "            break\n",
    "        lista = listaprimos(lista)\n",
    "    if lista[0]**2+lista[1]**2+lista[2]**2+lista[3]**2 > n:       # se o loop acabar, quer dizer que não exite \n",
    "                                                                  #soma do quadrado dos primos igual a n, logo\n",
    "        return print(False)                                       #retorna falso.\n"
   ]
  },
  {
   "cell_type": "code",
   "execution_count": 5,
   "metadata": {},
   "outputs": [
    {
     "name": "stdout",
     "output_type": "stream",
     "text": [
      "Escolha o modo:2\n",
      "n:569\n",
      "False\n"
     ]
    }
   ],
   "source": [
    "'''input para o usuário decidir o modo,\n",
    "após a decisão o programa executa a função \n",
    "de seu respectivo modo.'''\n",
    "\n",
    "modo = input('Escolha o modo:')\n",
    "if modo == '1':\n",
    "    n1, n2, n3, n4, n   = int(input('n1:')), int(input('n2:')), int(input('n3:')), int(input('n4:')), int(input('n:'))\n",
    "    print(modo1(n1, n2, n3, n4, n))\n",
    "\n",
    "if modo == '2':\n",
    "    n = int(input('n:'))\n",
    "    modo2(n)\n",
    "    \n",
    "    \n",
    "    \n",
    "    \n",
    "        "
   ]
  },
  {
   "cell_type": "code",
   "execution_count": null,
   "metadata": {},
   "outputs": [],
   "source": []
  }
 ],
 "metadata": {
  "kernelspec": {
   "display_name": "Python 3",
   "language": "python",
   "name": "python3"
  },
  "language_info": {
   "codemirror_mode": {
    "name": "ipython",
    "version": 3
   },
   "file_extension": ".py",
   "mimetype": "text/x-python",
   "name": "python",
   "nbconvert_exporter": "python",
   "pygments_lexer": "ipython3",
   "version": "3.7.3"
  }
 },
 "nbformat": 4,
 "nbformat_minor": 2
}
